{
  "nbformat": 4,
  "nbformat_minor": 0,
  "metadata": {
    "colab": {
      "name": "PyTorch_Fundamentals.ipynb",
      "provenance": [],
      "authorship_tag": "ABX9TyOLcw6n0L7rxCiidVX+jFKc"
    },
    "kernelspec": {
      "name": "python3",
      "display_name": "Python 3"
    },
    "language_info": {
      "name": "python"
    },
    "accelerator": "GPU",
    "gpuClass": "standard"
  },
  "cells": [
    {
      "cell_type": "markdown",
      "source": [
        "#### `Ali Almalki`"
      ],
      "metadata": {
        "id": "EHb1e8W1moDp"
      }
    },
    {
      "cell_type": "markdown",
      "source": [
        "# 00. PyTorch Fundamentals"
      ],
      "metadata": {
        "id": "oZAuowy5lt6B"
      }
    },
    {
      "cell_type": "code",
      "source": [
        "# Import required libraries \n",
        "import torch\n",
        "import numpy as np"
      ],
      "metadata": {
        "id": "0c1CzlkXlxJG"
      },
      "execution_count": 1,
      "outputs": []
    },
    {
      "cell_type": "code",
      "source": [
        "# Check PyTorch version \n",
        "torch.__version__"
      ],
      "metadata": {
        "colab": {
          "base_uri": "https://localhost:8080/",
          "height": 35
        },
        "id": "9tGZHlQglxMY",
        "outputId": "f37c996a-9f69-4203-c2d4-a8c20ba5380d"
      },
      "execution_count": 2,
      "outputs": [
        {
          "output_type": "execute_result",
          "data": {
            "text/plain": [
              "'1.11.0+cu113'"
            ],
            "application/vnd.google.colaboratory.intrinsic+json": {
              "type": "string"
            }
          },
          "metadata": {},
          "execution_count": 2
        }
      ]
    },
    {
      "cell_type": "markdown",
      "source": [
        "### Creating tensors \n",
        "* Scalers\n",
        "* Vector\n",
        "* Matrix \n",
        "* Tensor"
      ],
      "metadata": {
        "id": "2xULG7kvlxPq"
      }
    },
    {
      "cell_type": "code",
      "source": [
        "# Create a Scalar (0 dimensional tensor)\n",
        "scalar = torch.tensor(4)\n",
        "scalar"
      ],
      "metadata": {
        "colab": {
          "base_uri": "https://localhost:8080/"
        },
        "id": "O-NxJTq6lxSO",
        "outputId": "9cc20920-8554-440a-b9bd-e2de70a60d65"
      },
      "execution_count": 3,
      "outputs": [
        {
          "output_type": "execute_result",
          "data": {
            "text/plain": [
              "tensor(4)"
            ]
          },
          "metadata": {},
          "execution_count": 3
        }
      ]
    },
    {
      "cell_type": "code",
      "source": [
        "# Check tensor dimensions \n",
        "scalar.ndim"
      ],
      "metadata": {
        "colab": {
          "base_uri": "https://localhost:8080/"
        },
        "id": "T22o9ykhv4yJ",
        "outputId": "0f1e8414-596d-4c5d-b32f-9aa2fd5073f6"
      },
      "execution_count": 4,
      "outputs": [
        {
          "output_type": "execute_result",
          "data": {
            "text/plain": [
              "0"
            ]
          },
          "metadata": {},
          "execution_count": 4
        }
      ]
    },
    {
      "cell_type": "code",
      "source": [
        "# Get the number within a tensor (only works with one-element tensors)\n",
        "scalar.item() # Returns the value of this tensor as a standard Python number. This only works for tensors with one element."
      ],
      "metadata": {
        "colab": {
          "base_uri": "https://localhost:8080/"
        },
        "id": "FNUGIwHwwRen",
        "outputId": "729b1058-7243-48f7-8e50-388bc9e67cd3"
      },
      "execution_count": 5,
      "outputs": [
        {
          "output_type": "execute_result",
          "data": {
            "text/plain": [
              "4"
            ]
          },
          "metadata": {},
          "execution_count": 5
        }
      ]
    },
    {
      "cell_type": "code",
      "source": [
        "# Create a vector (1 dimensional tesnor)\n",
        "vector = torch.tensor([4, 4, 4])\n",
        "vector"
      ],
      "metadata": {
        "colab": {
          "base_uri": "https://localhost:8080/"
        },
        "id": "ss8HCC76wRoV",
        "outputId": "1a901055-ed36-4c12-c6cc-f2ba26b85c41"
      },
      "execution_count": 6,
      "outputs": [
        {
          "output_type": "execute_result",
          "data": {
            "text/plain": [
              "tensor([4, 4, 4])"
            ]
          },
          "metadata": {},
          "execution_count": 6
        }
      ]
    },
    {
      "cell_type": "code",
      "source": [
        "# Check vector dimensions \n",
        "vector.ndim"
      ],
      "metadata": {
        "colab": {
          "base_uri": "https://localhost:8080/"
        },
        "id": "w5mbOEwCwRsW",
        "outputId": "22950d91-d49b-433c-c235-8e6966bdb25d"
      },
      "execution_count": 7,
      "outputs": [
        {
          "output_type": "execute_result",
          "data": {
            "text/plain": [
              "1"
            ]
          },
          "metadata": {},
          "execution_count": 7
        }
      ]
    },
    {
      "cell_type": "code",
      "source": [
        "# Check vector shape\n",
        "vector.shape # 3 elements inside the vector"
      ],
      "metadata": {
        "colab": {
          "base_uri": "https://localhost:8080/"
        },
        "id": "woHdoNAtwRzu",
        "outputId": "0d41d21d-8c42-4805-e195-6ef632e75c3f"
      },
      "execution_count": 8,
      "outputs": [
        {
          "output_type": "execute_result",
          "data": {
            "text/plain": [
              "torch.Size([3])"
            ]
          },
          "metadata": {},
          "execution_count": 8
        }
      ]
    },
    {
      "cell_type": "code",
      "source": [
        "# Create a matrix (2-dimensional tensor)\n",
        "matrix = torch.tensor([[2, 4],\n",
        "                       [3, 5]])\n",
        "matrix"
      ],
      "metadata": {
        "colab": {
          "base_uri": "https://localhost:8080/"
        },
        "id": "PHQGfU9VwR4R",
        "outputId": "f50082be-6845-4afa-c9d8-bb433bbbc21a"
      },
      "execution_count": 9,
      "outputs": [
        {
          "output_type": "execute_result",
          "data": {
            "text/plain": [
              "tensor([[2, 4],\n",
              "        [3, 5]])"
            ]
          },
          "metadata": {},
          "execution_count": 9
        }
      ]
    },
    {
      "cell_type": "code",
      "source": [
        "# Check matrix number of dimensions (should be 2)\n",
        "matrix.ndim"
      ],
      "metadata": {
        "colab": {
          "base_uri": "https://localhost:8080/"
        },
        "id": "1g9Hhx9mxmlR",
        "outputId": "689466e0-ca15-4984-bee4-600a8f3ecaf9"
      },
      "execution_count": 10,
      "outputs": [
        {
          "output_type": "execute_result",
          "data": {
            "text/plain": [
              "2"
            ]
          },
          "metadata": {},
          "execution_count": 10
        }
      ]
    },
    {
      "cell_type": "code",
      "source": [
        "# Check matrix shape \n",
        "matrix.shape"
      ],
      "metadata": {
        "colab": {
          "base_uri": "https://localhost:8080/"
        },
        "id": "V0w89G08xmoT",
        "outputId": "8110f199-bd94-401b-9f60-15a457bd732d"
      },
      "execution_count": 11,
      "outputs": [
        {
          "output_type": "execute_result",
          "data": {
            "text/plain": [
              "torch.Size([2, 2])"
            ]
          },
          "metadata": {},
          "execution_count": 11
        }
      ]
    },
    {
      "cell_type": "code",
      "source": [
        "# Create a Tensor (n-dimensional array)\n",
        "tensor = torch.tensor([[[1, 2, 7],\n",
        "                        [4, 8, 9],\n",
        "                        [3, 5, 7]]])\n",
        "tensor"
      ],
      "metadata": {
        "colab": {
          "base_uri": "https://localhost:8080/"
        },
        "id": "-ouXT5EnyDft",
        "outputId": "33fcee10-8d4c-444f-e3be-48ffad6e43ad"
      },
      "execution_count": 12,
      "outputs": [
        {
          "output_type": "execute_result",
          "data": {
            "text/plain": [
              "tensor([[[1, 2, 7],\n",
              "         [4, 8, 9],\n",
              "         [3, 5, 7]]])"
            ]
          },
          "metadata": {},
          "execution_count": 12
        }
      ]
    },
    {
      "cell_type": "code",
      "source": [
        "# Check Tensor number of dimensions\n",
        "tensor.ndim"
      ],
      "metadata": {
        "colab": {
          "base_uri": "https://localhost:8080/"
        },
        "id": "d0ZSDQlsyDlB",
        "outputId": "c0bcb300-88bf-46aa-f5c7-b83613946182"
      },
      "execution_count": 13,
      "outputs": [
        {
          "output_type": "execute_result",
          "data": {
            "text/plain": [
              "3"
            ]
          },
          "metadata": {},
          "execution_count": 13
        }
      ]
    },
    {
      "cell_type": "code",
      "source": [
        "# Check Tensor shape \n",
        "tensor.shape"
      ],
      "metadata": {
        "colab": {
          "base_uri": "https://localhost:8080/"
        },
        "id": "BrrhZ1pnyDra",
        "outputId": "a4db8394-1f40-4d8a-b6fd-fc17cba37df2"
      },
      "execution_count": 14,
      "outputs": [
        {
          "output_type": "execute_result",
          "data": {
            "text/plain": [
              "torch.Size([1, 3, 3])"
            ]
          },
          "metadata": {},
          "execution_count": 14
        }
      ]
    },
    {
      "cell_type": "markdown",
      "source": [
        "Alright, it outputs `torch.Size([1, 3, 3])`.\n",
        "\n",
        "The dimensions go outer to inner.\n",
        "\n",
        "That means there's 1 dimension of 3 by 3.\n",
        "\n",
        "![example of different tensor dimensions](https://raw.githubusercontent.com/mrdbourke/pytorch-deep-learning/main/images/00-pytorch-different-tensor-dimensions.png)"
      ],
      "metadata": {
        "id": "iyK61I21yDxW"
      }
    },
    {
      "cell_type": "markdown",
      "source": [
        "| Name | What is it? | Number of dimensions | Lower or upper (usually/example) |\n",
        "| ----- | ----- | ----- | ----- |\n",
        "| **scalar** | a single number | 0 | Lower (`a`) | \n",
        "| **vector** | a number with direction (e.g. wind speed with direction) but can also have many other numbers | 1 | Lower (`y`) |\n",
        "| **matrix** | a 2-dimensional array of numbers | 2 | Upper (`Q`) |\n",
        "| **tensor** | an n-dimensional array of numbers | can be any number, a 0-dimension tensor is a scalar, a 1-dimension tensor is a vector | Upper (`X`) | \n",
        "\n",
        "![scalar vector matrix tensor and what they look like](https://raw.githubusercontent.com/mrdbourke/pytorch-deep-learning/main/images/00-scalar-vector-matrix-tensor.png)"
      ],
      "metadata": {
        "id": "AXU8DbhszNPI"
      }
    },
    {
      "cell_type": "markdown",
      "source": [
        "### Create Random Tensor"
      ],
      "metadata": {
        "id": "rxcKJS8KzNWf"
      }
    },
    {
      "cell_type": "code",
      "source": [
        "# Create a random tensor of size (2, 5)\n",
        "random_tensor = torch.rand(size=(2, 5))\n",
        "print(random_tensor)\n",
        "print(f\"Tensor Type: {random_tensor.dtype}\")\n",
        "print(f\"Number of dimensions: {random_tensor.ndim}\")\n",
        "print(f\"Tensor Shape: {random_tensor.shape}\")"
      ],
      "metadata": {
        "colab": {
          "base_uri": "https://localhost:8080/"
        },
        "id": "W7ZvEXk1zNeB",
        "outputId": "ce32a90a-643d-4207-e336-bdddb53bdce8"
      },
      "execution_count": 15,
      "outputs": [
        {
          "output_type": "stream",
          "name": "stdout",
          "text": [
            "tensor([[0.1049, 0.7056, 0.1105, 0.0591, 0.9277],\n",
            "        [0.2712, 0.1350, 0.3021, 0.0308, 0.1907]])\n",
            "Tensor Type: torch.float32\n",
            "Number of dimensions: 2\n",
            "Tensor Shape: torch.Size([2, 5])\n"
          ]
        }
      ]
    },
    {
      "cell_type": "code",
      "source": [
        "# Create another random tensor of image size (224, 224, 3)\n",
        "random_image_size_tensor = torch.rand(size=(224, 224, 3))\n",
        "print(random_image_size_tensor)\n",
        "print(f\"Tensor Type: {random_image_size_tensor.dtype}\")\n",
        "print(f\"Number of dimensions: {random_image_size_tensor.ndim}\")\n",
        "print(f\"Tensor Shape: {random_image_size_tensor.shape}\")"
      ],
      "metadata": {
        "colab": {
          "base_uri": "https://localhost:8080/"
        },
        "id": "TuDaQ3-e0Uxx",
        "outputId": "4b8890a6-6c27-45a0-d4a5-2acb09a60f43"
      },
      "execution_count": 16,
      "outputs": [
        {
          "output_type": "stream",
          "name": "stdout",
          "text": [
            "tensor([[[0.4657, 0.9130, 0.7373],\n",
            "         [0.9487, 0.1415, 0.4064],\n",
            "         [0.2672, 0.3018, 0.0613],\n",
            "         ...,\n",
            "         [0.7560, 0.3678, 0.6883],\n",
            "         [0.2372, 0.0634, 0.1817],\n",
            "         [0.5049, 0.1915, 0.4595]],\n",
            "\n",
            "        [[0.2345, 0.7512, 0.5519],\n",
            "         [0.0796, 0.4815, 0.9477],\n",
            "         [0.8688, 0.4204, 0.5239],\n",
            "         ...,\n",
            "         [0.3017, 0.9242, 0.3658],\n",
            "         [0.5078, 0.6724, 0.4410],\n",
            "         [0.4916, 0.4216, 0.6845]],\n",
            "\n",
            "        [[0.0274, 0.2398, 0.6297],\n",
            "         [0.9946, 0.7986, 0.8719],\n",
            "         [0.8753, 0.7650, 0.9577],\n",
            "         ...,\n",
            "         [0.6066, 0.9361, 0.2244],\n",
            "         [0.6900, 0.5473, 0.1689],\n",
            "         [0.7147, 0.1547, 0.6021]],\n",
            "\n",
            "        ...,\n",
            "\n",
            "        [[0.6316, 0.7212, 0.5626],\n",
            "         [0.5195, 0.2898, 0.6465],\n",
            "         [0.0281, 0.5739, 0.2933],\n",
            "         ...,\n",
            "         [0.1875, 0.7263, 0.1728],\n",
            "         [0.6475, 0.4682, 0.1830],\n",
            "         [0.8416, 0.6335, 0.9454]],\n",
            "\n",
            "        [[0.7613, 0.2352, 0.6157],\n",
            "         [0.2156, 0.0696, 0.8664],\n",
            "         [0.8890, 0.9407, 0.2367],\n",
            "         ...,\n",
            "         [0.7664, 0.7144, 0.5168],\n",
            "         [0.6417, 0.9315, 0.5481],\n",
            "         [0.7114, 0.8971, 0.8946]],\n",
            "\n",
            "        [[0.0463, 0.2873, 0.4652],\n",
            "         [0.5122, 0.5077, 0.0309],\n",
            "         [0.5564, 0.5499, 0.7322],\n",
            "         ...,\n",
            "         [0.1268, 0.9130, 0.8803],\n",
            "         [0.1317, 0.3484, 0.8194],\n",
            "         [0.7034, 0.4178, 0.1297]]])\n",
            "Tensor Type: torch.float32\n",
            "Number of dimensions: 3\n",
            "Tensor Shape: torch.Size([224, 224, 3])\n"
          ]
        }
      ]
    },
    {
      "cell_type": "markdown",
      "source": [
        "### Zeros and ones\n",
        "\n",
        "Filling tensors with zeros or ones.\n",
        "\n",
        "This is useful for masking (like masking some of the values in one tensor with zeros to let a model know not to learn them).\n"
      ],
      "metadata": {
        "id": "2dOMif8T0U-0"
      }
    },
    {
      "cell_type": "code",
      "source": [
        "# Create a tensor filled with zeros\n",
        "zeros = torch.zeros(size=(2, 3))\n",
        "print(zeros)\n",
        "print(zeros.dtype)\n",
        "print(zeros.shape)"
      ],
      "metadata": {
        "colab": {
          "base_uri": "https://localhost:8080/"
        },
        "id": "6mjI-J-P0VFM",
        "outputId": "ec346c35-d231-4b42-9777-c92e16132f29"
      },
      "execution_count": 17,
      "outputs": [
        {
          "output_type": "stream",
          "name": "stdout",
          "text": [
            "tensor([[0., 0., 0.],\n",
            "        [0., 0., 0.]])\n",
            "torch.float32\n",
            "torch.Size([2, 3])\n"
          ]
        }
      ]
    },
    {
      "cell_type": "code",
      "source": [
        "# Create a tensor filled with ones\n",
        "ones = torch.ones(size=(3, 4))\n",
        "print(ones)\n",
        "print(ones.dtype)\n",
        "print(ones.shape)"
      ],
      "metadata": {
        "colab": {
          "base_uri": "https://localhost:8080/"
        },
        "id": "8YA2Q0LT0VLb",
        "outputId": "693530bb-67ea-4433-b4c6-73c2bfbb5fee"
      },
      "execution_count": 18,
      "outputs": [
        {
          "output_type": "stream",
          "name": "stdout",
          "text": [
            "tensor([[1., 1., 1., 1.],\n",
            "        [1., 1., 1., 1.],\n",
            "        [1., 1., 1., 1.]])\n",
            "torch.float32\n",
            "torch.Size([3, 4])\n"
          ]
        }
      ]
    },
    {
      "cell_type": "markdown",
      "source": [
        "### Creating a range and tensors like\n",
        "\n",
        "`torch.arange(start, end, step)` \n",
        "\n",
        "Where:\n",
        "* `start` = start of range (e.g. 0)\n",
        "* `end` = end of range (e.g. 10)\n",
        "* `step` = how many steps in between each value (e.g. 1)"
      ],
      "metadata": {
        "id": "jEB-2-2q0VRd"
      }
    },
    {
      "cell_type": "code",
      "source": [
        "# Create a tensor with specific range (0, 15)\n",
        "zero_to_fifteen = torch.arange(0, 15)\n",
        "zero_to_fifteen, zero_to_fifteen.shape"
      ],
      "metadata": {
        "colab": {
          "base_uri": "https://localhost:8080/"
        },
        "id": "0ok8nTij2FE2",
        "outputId": "6252128d-2e34-4408-8868-b206fdc033c0"
      },
      "execution_count": 19,
      "outputs": [
        {
          "output_type": "execute_result",
          "data": {
            "text/plain": [
              "(tensor([ 0,  1,  2,  3,  4,  5,  6,  7,  8,  9, 10, 11, 12, 13, 14]),\n",
              " torch.Size([15]))"
            ]
          },
          "metadata": {},
          "execution_count": 19
        }
      ]
    },
    {
      "cell_type": "code",
      "source": [
        "# Create a random tensor with the same shape of the previous zeros tensor\n",
        "fifteen_zeros = torch.zeros_like(input=zero_to_fifteen)\n",
        "fifteen_zeros"
      ],
      "metadata": {
        "colab": {
          "base_uri": "https://localhost:8080/"
        },
        "id": "lR17eGD02FPh",
        "outputId": "361dc306-a778-4558-f03d-23c97c275f6f"
      },
      "execution_count": 20,
      "outputs": [
        {
          "output_type": "execute_result",
          "data": {
            "text/plain": [
              "tensor([0, 0, 0, 0, 0, 0, 0, 0, 0, 0, 0, 0, 0, 0, 0])"
            ]
          },
          "metadata": {},
          "execution_count": 20
        }
      ]
    },
    {
      "cell_type": "code",
      "source": [
        "fifteen_ones = torch.ones_like(input=zero_to_fifteen)\n",
        "fifteen_ones"
      ],
      "metadata": {
        "colab": {
          "base_uri": "https://localhost:8080/"
        },
        "id": "WywaPlYB3JWN",
        "outputId": "e31d761a-0215-455d-b93e-8734b7a083dc"
      },
      "execution_count": 21,
      "outputs": [
        {
          "output_type": "execute_result",
          "data": {
            "text/plain": [
              "tensor([1, 1, 1, 1, 1, 1, 1, 1, 1, 1, 1, 1, 1, 1, 1])"
            ]
          },
          "metadata": {},
          "execution_count": 21
        }
      ]
    },
    {
      "cell_type": "markdown",
      "source": [
        "### Tensor datatypes"
      ],
      "metadata": {
        "id": "YyLZBPAI3Jhc"
      }
    },
    {
      "cell_type": "markdown",
      "source": [
        "The most common type (and generally the default) is `torch.float32` or `torch.float`.\n",
        "\n",
        "This is referred to as \"32-bit floating point\".\n",
        "\n",
        "But there's also 16-bit floating point (`torch.float16` or `torch.half`) and 64-bit floating point (`torch.float64` or `torch.double`)."
      ],
      "metadata": {
        "id": "NQjdcUEO4lx2"
      }
    },
    {
      "cell_type": "code",
      "source": [
        "# Default tensor datatype is `float32`\n",
        "float_32_tensor = torch.tensor([2.0, 3.0, 4.0],\n",
        "                               dtype=None,\n",
        "                               device=None,\n",
        "                               requires_grad=False)\n",
        "print(float_32_tensor.shape)\n",
        "print(float_32_tensor.dtype)\n",
        "print(float_32_tensor.device)"
      ],
      "metadata": {
        "colab": {
          "base_uri": "https://localhost:8080/"
        },
        "id": "oXNKMhWY4l2u",
        "outputId": "e9049a4d-38a5-4ea2-b15a-0f74ae82cdda"
      },
      "execution_count": 22,
      "outputs": [
        {
          "output_type": "stream",
          "name": "stdout",
          "text": [
            "torch.Size([3])\n",
            "torch.float32\n",
            "cpu\n"
          ]
        }
      ]
    },
    {
      "cell_type": "code",
      "source": [
        "# Create a tensor with `float16` datatype\n",
        "float_16_tensor = torch.tensor([5.0, 7.0, 9.0],\n",
        "                               dtype=torch.float16) # torch.half would also work\n",
        "print(float_16_tensor.shape)\n",
        "print(float_16_tensor.dtype)\n",
        "print(float_16_tensor.device)                   "
      ],
      "metadata": {
        "colab": {
          "base_uri": "https://localhost:8080/"
        },
        "id": "ltVfE2J64l8O",
        "outputId": "e1f31312-f274-43b5-9f02-9a6f6cadf9c2"
      },
      "execution_count": 23,
      "outputs": [
        {
          "output_type": "stream",
          "name": "stdout",
          "text": [
            "torch.Size([3])\n",
            "torch.float16\n",
            "cpu\n"
          ]
        }
      ]
    },
    {
      "cell_type": "markdown",
      "source": [
        "### Getting information from tensors\n",
        "\n",
        "The most common attributes you'll want to find out about tensors are:\n",
        "* `shape` - what shape is the tensor? (some operations require specific shape rules)\n",
        "* `dtype` - what datatype are the elements within the tensor stored in?\n",
        "* `device` - what device is the tensor stored on? (usually GPU or CPU)"
      ],
      "metadata": {
        "id": "3KtbfsAA6O6e"
      }
    },
    {
      "cell_type": "code",
      "source": [
        "# Create a random tensor \n",
        "tensor = torch.rand(3, 5)\n",
        "\n",
        "# Get tensor information \n",
        "print(tensor)\n",
        "print(f\"Shape of tensor: {tensor.shape}\")\n",
        "print(f\"Datatype of tensor: {tensor.dtype}\")\n",
        "print(f\"Device tensor is stored on: {tensor.device}\")"
      ],
      "metadata": {
        "colab": {
          "base_uri": "https://localhost:8080/"
        },
        "id": "bFYe1ILS6jil",
        "outputId": "9c7e52b2-6a6c-4499-de68-701fd056a52a"
      },
      "execution_count": 24,
      "outputs": [
        {
          "output_type": "stream",
          "name": "stdout",
          "text": [
            "tensor([[0.2914, 0.9324, 0.9830, 0.2352, 0.9682],\n",
            "        [0.7582, 0.0996, 0.4657, 0.2876, 0.9865],\n",
            "        [0.1262, 0.1210, 0.3513, 0.9318, 0.3268]])\n",
            "Shape of tensor: torch.Size([3, 5])\n",
            "Datatype of tensor: torch.float32\n",
            "Device tensor is stored on: cpu\n"
          ]
        }
      ]
    },
    {
      "cell_type": "markdown",
      "source": [
        "### Manipulating tensors (tensor operations)\n",
        "* addition (`+`)\n",
        "* subtraction (`-`)\n",
        "* mutliplication (`*`).\n",
        "\n"
      ],
      "metadata": {
        "id": "lsJQNn37B8wD"
      }
    },
    {
      "cell_type": "code",
      "source": [
        "# Create a tensor \n",
        "tensor = torch.tensor([3,4,5])\n",
        "\n",
        "# Add 20 to tensor \n",
        "tensor + 20 "
      ],
      "metadata": {
        "colab": {
          "base_uri": "https://localhost:8080/"
        },
        "id": "ms6ZAq01B82y",
        "outputId": "edb6a845-e819-465c-e830-346ca6b5a2d3"
      },
      "execution_count": 25,
      "outputs": [
        {
          "output_type": "execute_result",
          "data": {
            "text/plain": [
              "tensor([23, 24, 25])"
            ]
          },
          "metadata": {},
          "execution_count": 25
        }
      ]
    },
    {
      "cell_type": "code",
      "source": [
        "# Multiply it by 20\n",
        "tensor * 20"
      ],
      "metadata": {
        "colab": {
          "base_uri": "https://localhost:8080/"
        },
        "id": "F_5jmhhSB9Dh",
        "outputId": "a8d7d40a-8854-498b-a2f8-a327be7aa505"
      },
      "execution_count": 26,
      "outputs": [
        {
          "output_type": "execute_result",
          "data": {
            "text/plain": [
              "tensor([ 60,  80, 100])"
            ]
          },
          "metadata": {},
          "execution_count": 26
        }
      ]
    },
    {
      "cell_type": "code",
      "source": [
        "# Substract 20 from tesnor\n",
        "tensor - 20"
      ],
      "metadata": {
        "colab": {
          "base_uri": "https://localhost:8080/"
        },
        "id": "1Mazmsy8B9KO",
        "outputId": "73cf4507-fb5c-47be-c2a4-ac777c2e217e"
      },
      "execution_count": 27,
      "outputs": [
        {
          "output_type": "execute_result",
          "data": {
            "text/plain": [
              "tensor([-17, -16, -15])"
            ]
          },
          "metadata": {},
          "execution_count": 27
        }
      ]
    },
    {
      "cell_type": "code",
      "source": [
        "# Create two random tensors\n",
        "tesnor1 = torch.rand(size=(2,3))\n",
        "tensor2 = torch.rand(size=(3,2))"
      ],
      "metadata": {
        "id": "RM8nD0Rhz2Al"
      },
      "execution_count": 28,
      "outputs": []
    },
    {
      "cell_type": "code",
      "source": [
        "# Add 20 to tensor 1\n",
        "torch.add(tesnor1, 20)"
      ],
      "metadata": {
        "colab": {
          "base_uri": "https://localhost:8080/"
        },
        "id": "tmpRx26PDPGe",
        "outputId": "9ee97371-d91a-4008-c359-0f61c58815b0"
      },
      "execution_count": 29,
      "outputs": [
        {
          "output_type": "execute_result",
          "data": {
            "text/plain": [
              "tensor([[20.0841, 20.9475, 20.9849],\n",
              "        [20.3689, 20.7934, 20.9445]])"
            ]
          },
          "metadata": {},
          "execution_count": 29
        }
      ]
    },
    {
      "cell_type": "code",
      "source": [
        "# Multiply 20 to tensor 1\n",
        "torch.multiply(tesnor1, 20)"
      ],
      "metadata": {
        "colab": {
          "base_uri": "https://localhost:8080/"
        },
        "id": "k5bfrPme0c7p",
        "outputId": "0bb86ccf-dc7d-4c3a-bea6-6faa738b17d0"
      },
      "execution_count": 30,
      "outputs": [
        {
          "output_type": "execute_result",
          "data": {
            "text/plain": [
              "tensor([[ 1.6813, 18.9509, 19.6978],\n",
              "        [ 7.3774, 15.8686, 18.8893]])"
            ]
          },
          "metadata": {},
          "execution_count": 30
        }
      ]
    },
    {
      "cell_type": "code",
      "source": [
        "# Substract 20 from tensor 1\n",
        "torch.subtract(tesnor1, 20)"
      ],
      "metadata": {
        "colab": {
          "base_uri": "https://localhost:8080/"
        },
        "id": "vOPtsBR60dAY",
        "outputId": "a4d28d98-6e75-406c-c20a-603d9095b26c"
      },
      "execution_count": 31,
      "outputs": [
        {
          "output_type": "execute_result",
          "data": {
            "text/plain": [
              "tensor([[-19.9159, -19.0525, -19.0151],\n",
              "        [-19.6311, -19.2066, -19.0555]])"
            ]
          },
          "metadata": {},
          "execution_count": 31
        }
      ]
    },
    {
      "cell_type": "code",
      "source": [
        "# Divide 20 from tensor 1\n",
        "torch.divide(tesnor1, 20)"
      ],
      "metadata": {
        "colab": {
          "base_uri": "https://localhost:8080/"
        },
        "id": "mklrkXR001hg",
        "outputId": "df22dc66-3c87-4b63-a4f5-22a80b4d3d66"
      },
      "execution_count": 32,
      "outputs": [
        {
          "output_type": "execute_result",
          "data": {
            "text/plain": [
              "tensor([[0.0042, 0.0474, 0.0492],\n",
              "        [0.0184, 0.0397, 0.0472]])"
            ]
          },
          "metadata": {},
          "execution_count": 32
        }
      ]
    },
    {
      "cell_type": "markdown",
      "source": [
        "### Matrix multiplication \n",
        "\n",
        "The main two rules for matrix multiplication to remember are:\n",
        "1. The **inner dimensions** must match:\n",
        "  * `(3, 2) @ (3, 2)` won't work\n",
        "  * `(2, 3) @ (3, 2)` will work\n",
        "  * `(3, 2) @ (2, 3)` will work\n",
        "2. The resulting matrix has the shape of the **outer dimensions**:\n",
        " * `(2, 3) @ (3, 2)` -> `(2, 2)`\n",
        " * `(3, 2) @ (2, 3)` -> `(3, 3)`\n",
        "\n",
        "> **Note:** \"`@`\" in Python is the symbol for matrix multiplication."
      ],
      "metadata": {
        "id": "za5C-yQF0_7e"
      }
    },
    {
      "cell_type": "code",
      "source": [
        "# Create a tensor \n",
        "tensor = torch.tensor([1,2,3])\n",
        "tensor"
      ],
      "metadata": {
        "colab": {
          "base_uri": "https://localhost:8080/"
        },
        "id": "b4YSo2QJ4tQJ",
        "outputId": "d667337e-6236-4d16-e88e-04aaba75358c"
      },
      "execution_count": 33,
      "outputs": [
        {
          "output_type": "execute_result",
          "data": {
            "text/plain": [
              "tensor([1, 2, 3])"
            ]
          },
          "metadata": {},
          "execution_count": 33
        }
      ]
    },
    {
      "cell_type": "markdown",
      "source": [
        "| Operation | Calculation | Code |\n",
        "| ----- | ----- | ----- |\n",
        "| **Element-wise multiplication** | `[1*1, 2*2, 3*3]` = `[1, 4, 9]` | `tensor * tensor` |\n",
        "| **Matrix multiplication** | `[1*1 + 2*2 + 3*3]` = `[14]` | `tensor.matmul(tensor)` |"
      ],
      "metadata": {
        "id": "cxyT9jdF4-de"
      }
    },
    {
      "cell_type": "code",
      "source": [
        "# Element-wise matrix multiplication \n",
        "tensor * tensor"
      ],
      "metadata": {
        "colab": {
          "base_uri": "https://localhost:8080/"
        },
        "id": "J4sj7P191ABT",
        "outputId": "af299ebd-ba4f-4ab7-f42c-2bcee79fda8f"
      },
      "execution_count": 34,
      "outputs": [
        {
          "output_type": "execute_result",
          "data": {
            "text/plain": [
              "tensor([1, 4, 9])"
            ]
          },
          "metadata": {},
          "execution_count": 34
        }
      ]
    },
    {
      "cell_type": "code",
      "source": [
        "# Matrix Mutliplication\n",
        "torch.matmul(tensor, tensor)\n",
        "# Also tensor @ tensor works as well"
      ],
      "metadata": {
        "colab": {
          "base_uri": "https://localhost:8080/"
        },
        "id": "3-XcfgBd1AHI",
        "outputId": "9c80d535-846f-47bf-ad78-5bfcd6244fae"
      },
      "execution_count": 35,
      "outputs": [
        {
          "output_type": "execute_result",
          "data": {
            "text/plain": [
              "tensor(14)"
            ]
          },
          "metadata": {},
          "execution_count": 35
        }
      ]
    },
    {
      "cell_type": "code",
      "source": [
        "# Shapes need to be in the right way  \n",
        "tensor_A = torch.tensor([[1, 2],\n",
        "                         [3, 4],\n",
        "                         [5, 6]], dtype=torch.float32)\n",
        "\n",
        "tensor_B = torch.tensor([[7, 10],\n",
        "                         [8, 11], \n",
        "                         [9, 12]], dtype=torch.float32)\n",
        "\n",
        "torch.matmul(tensor_A, tensor_B) # (this will error)"
      ],
      "metadata": {
        "colab": {
          "base_uri": "https://localhost:8080/",
          "height": 201
        },
        "id": "6c4_ROia5Xou",
        "outputId": "b1c8b3b9-297b-45a5-a3b0-f67ec7c0341f"
      },
      "execution_count": 37,
      "outputs": [
        {
          "output_type": "error",
          "ename": "RuntimeError",
          "evalue": "ignored",
          "traceback": [
            "\u001b[0;31m---------------------------------------------------------------------------\u001b[0m",
            "\u001b[0;31mRuntimeError\u001b[0m                              Traceback (most recent call last)",
            "\u001b[0;32m<ipython-input-37-aceec990e652>\u001b[0m in \u001b[0;36m<module>\u001b[0;34m()\u001b[0m\n\u001b[1;32m      8\u001b[0m                          [9, 12]], dtype=torch.float32)\n\u001b[1;32m      9\u001b[0m \u001b[0;34m\u001b[0m\u001b[0m\n\u001b[0;32m---> 10\u001b[0;31m \u001b[0mtorch\u001b[0m\u001b[0;34m.\u001b[0m\u001b[0mmatmul\u001b[0m\u001b[0;34m(\u001b[0m\u001b[0mtensor_A\u001b[0m\u001b[0;34m,\u001b[0m \u001b[0mtensor_B\u001b[0m\u001b[0;34m)\u001b[0m \u001b[0;31m# (this will error)\u001b[0m\u001b[0;34m\u001b[0m\u001b[0;34m\u001b[0m\u001b[0m\n\u001b[0m",
            "\u001b[0;31mRuntimeError\u001b[0m: mat1 and mat2 shapes cannot be multiplied (3x2 and 3x2)"
          ]
        }
      ]
    },
    {
      "cell_type": "code",
      "source": [
        "# View tensor_A and tensor_B\n",
        "print(tensor_A)\n",
        "print(tensor_B)"
      ],
      "metadata": {
        "colab": {
          "base_uri": "https://localhost:8080/"
        },
        "id": "H1vQdYaF5XuP",
        "outputId": "336a1eb3-f636-47e2-e96d-fd47cba274cb"
      },
      "execution_count": 39,
      "outputs": [
        {
          "output_type": "stream",
          "name": "stdout",
          "text": [
            "tensor([[1., 2.],\n",
            "        [3., 4.],\n",
            "        [5., 6.]])\n",
            "tensor([[ 7., 10.],\n",
            "        [ 8., 11.],\n",
            "        [ 9., 12.]])\n"
          ]
        }
      ]
    },
    {
      "cell_type": "code",
      "source": [
        "# Make inner dimensions (for matrix multiplication) match by transposing tensor_B\n",
        "print(tensor_A)\n",
        "print(tensor_B.T)\n",
        "print(tensor_A.shape)\n",
        "print(tensor_B.T.shape)"
      ],
      "metadata": {
        "colab": {
          "base_uri": "https://localhost:8080/"
        },
        "id": "9VSed1Xe6MA2",
        "outputId": "1e0d04e1-c74a-44fe-f3a4-f278db23ecb3"
      },
      "execution_count": 40,
      "outputs": [
        {
          "output_type": "stream",
          "name": "stdout",
          "text": [
            "tensor([[1., 2.],\n",
            "        [3., 4.],\n",
            "        [5., 6.]])\n",
            "tensor([[ 7.,  8.,  9.],\n",
            "        [10., 11., 12.]])\n",
            "torch.Size([3, 2])\n",
            "torch.Size([2, 3])\n"
          ]
        }
      ]
    },
    {
      "cell_type": "code",
      "source": [
        "# Now it should work\n",
        "torch.matmul(tensor_A, tensor_B.T)"
      ],
      "metadata": {
        "colab": {
          "base_uri": "https://localhost:8080/"
        },
        "id": "9h7-7dv66hJz",
        "outputId": "43d5f2cf-9aa5-4d61-a9c5-e49559e5bbff"
      },
      "execution_count": 41,
      "outputs": [
        {
          "output_type": "execute_result",
          "data": {
            "text/plain": [
              "tensor([[ 27.,  30.,  33.],\n",
              "        [ 61.,  68.,  75.],\n",
              "        [ 95., 106., 117.]])"
            ]
          },
          "metadata": {},
          "execution_count": 41
        }
      ]
    },
    {
      "cell_type": "markdown",
      "source": [
        "I can also use [`torch.mm()`](https://pytorch.org/docs/stable/generated/torch.mm.html) which is a short for `torch.matmul()`."
      ],
      "metadata": {
        "id": "EFlz4KsE6p0q"
      }
    },
    {
      "cell_type": "markdown",
      "source": [
        "The [`torch.nn.Linear()`](https://pytorch.org/docs/1.9.1/generated/torch.nn.Linear.html) module, also known as a feed-forward layer or fully connected layer, implements a matrix multiplication between an input `x` and a weights matrix `A`.\n",
        "\n",
        "$$\n",
        "y = x\\cdot{A^T} + b\n",
        "$$\n",
        "\n",
        "Where:\n",
        "* `x` is the input to the layer (deep learning is a stack of layers like `torch.nn.Linear()` and others on top of each other).\n",
        "* `A` is the weights matrix created by the layer, this starts out as random numbers that get adjusted as a neural network learns to better represent patterns in the data (notice the \"`T`\", that's because the weights matrix gets transposed).\n",
        "  * **Note:** You might also often see `W` or another letter like `X` used to showcase the weights matrix.\n",
        "* `b` is the bias term used to slightly offset the weights and inputs.\n",
        "* `y` is the output (a manipulation of the input in the hopes to discover patterns in it)."
      ],
      "metadata": {
        "id": "DyLIrUF-6p-j"
      }
    },
    {
      "cell_type": "code",
      "source": [
        "# Make it reproducible \n",
        "torch.manual_seed(42)\n",
        "\n",
        "# Create a linear layer (uses matrix multiplication)\n",
        "linear = torch.nn.Linear(in_features=3, # in_features = matches inner dimension of input\n",
        "                         out_features=6) # out_features = describes outer value \n",
        "linear"
      ],
      "metadata": {
        "colab": {
          "base_uri": "https://localhost:8080/"
        },
        "id": "u9HDdjBgM8U_",
        "outputId": "a56f2638-c16b-4272-c2ca-eeddacc05199"
      },
      "execution_count": 42,
      "outputs": [
        {
          "output_type": "execute_result",
          "data": {
            "text/plain": [
              "Linear(in_features=3, out_features=6, bias=True)"
            ]
          },
          "metadata": {},
          "execution_count": 42
        }
      ]
    },
    {
      "cell_type": "code",
      "source": [
        "# Create a tensor \n",
        "x = torch.rand(size=(6, 3))\n",
        "x"
      ],
      "metadata": {
        "colab": {
          "base_uri": "https://localhost:8080/"
        },
        "id": "rL1wMjhiNrOK",
        "outputId": "88e37edb-4e28-4e3d-d367-aea6356bc952"
      },
      "execution_count": 43,
      "outputs": [
        {
          "output_type": "execute_result",
          "data": {
            "text/plain": [
              "tensor([[0.1053, 0.2695, 0.3588],\n",
              "        [0.1994, 0.5472, 0.0062],\n",
              "        [0.9516, 0.0753, 0.8860],\n",
              "        [0.5832, 0.3376, 0.8090],\n",
              "        [0.5779, 0.9040, 0.5547],\n",
              "        [0.3423, 0.6343, 0.3644]])"
            ]
          },
          "metadata": {},
          "execution_count": 43
        }
      ]
    },
    {
      "cell_type": "code",
      "source": [
        "output = linear(x)\n",
        "output"
      ],
      "metadata": {
        "colab": {
          "base_uri": "https://localhost:8080/"
        },
        "id": "PSbY4L-PN3vu",
        "outputId": "34c2e942-d37b-440f-f9f6-d79bb0c7b5c7"
      },
      "execution_count": 45,
      "outputs": [
        {
          "output_type": "execute_result",
          "data": {
            "text/plain": [
              "tensor([[-0.1424,  0.2107, -0.0216,  0.0617, -0.0686,  0.5250],\n",
              "        [ 0.0799,  0.1844, -0.1334,  0.1231, -0.1050,  0.6108],\n",
              "        [ 0.0667,  0.7455, -0.0570, -0.3372,  0.4239,  0.4145],\n",
              "        [ 0.0403,  0.5080,  0.0963, -0.0579,  0.2659,  0.5548],\n",
              "        [ 0.3437,  0.4039,  0.1604,  0.2011,  0.2371,  0.7856],\n",
              "        [ 0.1363,  0.2909,  0.0383,  0.1450,  0.0626,  0.6685]],\n",
              "       grad_fn=<AddmmBackward0>)"
            ]
          },
          "metadata": {},
          "execution_count": 45
        }
      ]
    },
    {
      "cell_type": "code",
      "source": [
        "print(f\"Input shape: {x.shape}\\n\")\n",
        "print(f\"Output:\\n{output}\\n\\nOutput shape: {output.shape}\")"
      ],
      "metadata": {
        "colab": {
          "base_uri": "https://localhost:8080/"
        },
        "id": "6YnuP1WvOLnq",
        "outputId": "0b823281-70ca-4d8b-ba17-c348d634bc29"
      },
      "execution_count": 46,
      "outputs": [
        {
          "output_type": "stream",
          "name": "stdout",
          "text": [
            "Input shape: torch.Size([6, 3])\n",
            "\n",
            "Output:\n",
            "tensor([[-0.1424,  0.2107, -0.0216,  0.0617, -0.0686,  0.5250],\n",
            "        [ 0.0799,  0.1844, -0.1334,  0.1231, -0.1050,  0.6108],\n",
            "        [ 0.0667,  0.7455, -0.0570, -0.3372,  0.4239,  0.4145],\n",
            "        [ 0.0403,  0.5080,  0.0963, -0.0579,  0.2659,  0.5548],\n",
            "        [ 0.3437,  0.4039,  0.1604,  0.2011,  0.2371,  0.7856],\n",
            "        [ 0.1363,  0.2909,  0.0383,  0.1450,  0.0626,  0.6685]],\n",
            "       grad_fn=<AddmmBackward0>)\n",
            "\n",
            "Output shape: torch.Size([6, 6])\n"
          ]
        }
      ]
    },
    {
      "cell_type": "markdown",
      "source": [
        "### Finding the min, max, mean, sum, etc (aggregation)"
      ],
      "metadata": {
        "id": "i1p1ihOmOQOm"
      }
    },
    {
      "cell_type": "code",
      "source": [
        "# Create a tensor \n",
        "tensor = torch.arange(0, 50)\n",
        "tensor"
      ],
      "metadata": {
        "colab": {
          "base_uri": "https://localhost:8080/"
        },
        "id": "VHahXBDFOQSf",
        "outputId": "a95d62c4-21bf-462e-d972-5473bd7115bf"
      },
      "execution_count": 47,
      "outputs": [
        {
          "output_type": "execute_result",
          "data": {
            "text/plain": [
              "tensor([ 0,  1,  2,  3,  4,  5,  6,  7,  8,  9, 10, 11, 12, 13, 14, 15, 16, 17,\n",
              "        18, 19, 20, 21, 22, 23, 24, 25, 26, 27, 28, 29, 30, 31, 32, 33, 34, 35,\n",
              "        36, 37, 38, 39, 40, 41, 42, 43, 44, 45, 46, 47, 48, 49])"
            ]
          },
          "metadata": {},
          "execution_count": 47
        }
      ]
    },
    {
      "cell_type": "code",
      "source": [
        "tensor.dtype"
      ],
      "metadata": {
        "colab": {
          "base_uri": "https://localhost:8080/"
        },
        "id": "Jsnzb55YPPXh",
        "outputId": "2601ed8b-fafc-4af7-9243-dacc30c6769b"
      },
      "execution_count": 48,
      "outputs": [
        {
          "output_type": "execute_result",
          "data": {
            "text/plain": [
              "torch.int64"
            ]
          },
          "metadata": {},
          "execution_count": 48
        }
      ]
    },
    {
      "cell_type": "code",
      "source": [
        "# Change tensor data type \n",
        "tensor_float = tensor.to(torch.float)"
      ],
      "metadata": {
        "id": "j0WS4QLNPiiw"
      },
      "execution_count": 49,
      "outputs": []
    },
    {
      "cell_type": "code",
      "source": [
        "# Find tensor max, min, mean(average) and sum\n",
        "\n",
        "print(tensor.max())\n",
        "print(tensor.min())\n",
        "print(tensor_float.mean()) # Another way: print(f\"Mean: {tensor.type(torch.float32).mean()}\") # won't work without float datatype\n",
        "print(tensor.sum())"
      ],
      "metadata": {
        "colab": {
          "base_uri": "https://localhost:8080/"
        },
        "id": "JHYKYa7TOQY4",
        "outputId": "f5c63f2c-7594-4ae2-cf17-8572742cef8c"
      },
      "execution_count": 50,
      "outputs": [
        {
          "output_type": "stream",
          "name": "stdout",
          "text": [
            "tensor(49)\n",
            "tensor(0)\n",
            "tensor(24.5000)\n",
            "tensor(1225)\n"
          ]
        }
      ]
    },
    {
      "cell_type": "code",
      "source": [
        "# Another way with torch method \n",
        "torch.max(tensor), torch.min(tensor), torch.mean(tensor.type(torch.float32)), torch.sum(tensor)"
      ],
      "metadata": {
        "colab": {
          "base_uri": "https://localhost:8080/"
        },
        "id": "5l6u7kK0P_Ig",
        "outputId": "448270f9-970b-4bdc-cf6f-a95897e0a51a"
      },
      "execution_count": 51,
      "outputs": [
        {
          "output_type": "execute_result",
          "data": {
            "text/plain": [
              "(tensor(49), tensor(0), tensor(24.5000), tensor(1225))"
            ]
          },
          "metadata": {},
          "execution_count": 51
        }
      ]
    },
    {
      "cell_type": "markdown",
      "source": [
        "### Positional min/max (Index)"
      ],
      "metadata": {
        "id": "RlXLKP6jP_NE"
      }
    },
    {
      "cell_type": "code",
      "source": [
        "tensor"
      ],
      "metadata": {
        "colab": {
          "base_uri": "https://localhost:8080/"
        },
        "id": "IlY5ih9lQ2w9",
        "outputId": "2860e095-bd4e-46d8-e95e-4aaebf2e2c40"
      },
      "execution_count": 52,
      "outputs": [
        {
          "output_type": "execute_result",
          "data": {
            "text/plain": [
              "tensor([ 0,  1,  2,  3,  4,  5,  6,  7,  8,  9, 10, 11, 12, 13, 14, 15, 16, 17,\n",
              "        18, 19, 20, 21, 22, 23, 24, 25, 26, 27, 28, 29, 30, 31, 32, 33, 34, 35,\n",
              "        36, 37, 38, 39, 40, 41, 42, 43, 44, 45, 46, 47, 48, 49])"
            ]
          },
          "metadata": {},
          "execution_count": 52
        }
      ]
    },
    {
      "cell_type": "code",
      "source": [
        "# Find the index of highest and lowest value in the tensor \n",
        "tensor.argmax(), tensor.argmin()"
      ],
      "metadata": {
        "colab": {
          "base_uri": "https://localhost:8080/"
        },
        "id": "zakWrAK6Qmgq",
        "outputId": "36931f48-5853-4a54-ddd8-194af8628d51"
      },
      "execution_count": 53,
      "outputs": [
        {
          "output_type": "execute_result",
          "data": {
            "text/plain": [
              "(tensor(49), tensor(0))"
            ]
          },
          "metadata": {},
          "execution_count": 53
        }
      ]
    },
    {
      "cell_type": "markdown",
      "source": [
        "### Change tensor datatype"
      ],
      "metadata": {
        "id": "lGEaqQSyP_UF"
      }
    },
    {
      "cell_type": "code",
      "source": [
        "# Create a tensor \n",
        "tensor = torch.arange(10, 70, 2)\n",
        "tensor.dtype"
      ],
      "metadata": {
        "colab": {
          "base_uri": "https://localhost:8080/"
        },
        "id": "-zM-CkZqQ-39",
        "outputId": "afdd11b8-9dc7-4c5a-bee9-6ccb45165dc9"
      },
      "execution_count": 54,
      "outputs": [
        {
          "output_type": "execute_result",
          "data": {
            "text/plain": [
              "torch.int64"
            ]
          },
          "metadata": {},
          "execution_count": 54
        }
      ]
    },
    {
      "cell_type": "code",
      "source": [
        "# Change tensor datatype to float32\n",
        "tensor_float32 = tensor.type(torch.float32)\n",
        "tensor_float32"
      ],
      "metadata": {
        "colab": {
          "base_uri": "https://localhost:8080/"
        },
        "id": "iXYWkUfjQ-7u",
        "outputId": "9666c076-d350-493a-ae4f-b1479cab3a4e"
      },
      "execution_count": 55,
      "outputs": [
        {
          "output_type": "execute_result",
          "data": {
            "text/plain": [
              "tensor([10., 12., 14., 16., 18., 20., 22., 24., 26., 28., 30., 32., 34., 36.,\n",
              "        38., 40., 42., 44., 46., 48., 50., 52., 54., 56., 58., 60., 62., 64.,\n",
              "        66., 68.])"
            ]
          },
          "metadata": {},
          "execution_count": 55
        }
      ]
    },
    {
      "cell_type": "markdown",
      "source": [
        "### TENSOR VIEWS\n",
        "PyTorch allows a tensor to be a View of an existing tensor. View tensor shares the same underlying data with its base tensor. Supporting View avoids explicit data copy, thus allows us to do fast and memory efficient reshaping, slicing and element-wise operations."
      ],
      "metadata": {
        "id": "cXZ0244jQ--J"
      }
    },
    {
      "cell_type": "code",
      "source": [
        "# Create a tensor \n",
        "tensor = torch.rand(size=(2,3))\n",
        "tensor"
      ],
      "metadata": {
        "colab": {
          "base_uri": "https://localhost:8080/"
        },
        "id": "PHIGV5K_Q_EK",
        "outputId": "8fd4d13c-24dc-4501-f259-6ae0e7979180"
      },
      "execution_count": 56,
      "outputs": [
        {
          "output_type": "execute_result",
          "data": {
            "text/plain": [
              "tensor([[0.7104, 0.9464, 0.7890],\n",
              "        [0.2814, 0.7886, 0.5895]])"
            ]
          },
          "metadata": {},
          "execution_count": 56
        }
      ]
    },
    {
      "cell_type": "code",
      "source": [
        "tensor_copy = tensor.view(1, 6) # they have to have the same size (2*3=6, 1*6=6)\n",
        "tensor_copy"
      ],
      "metadata": {
        "colab": {
          "base_uri": "https://localhost:8080/"
        },
        "id": "piMwF88sShJK",
        "outputId": "1a3a7519-12f6-4f2c-c9ee-79e2c2bb393a"
      },
      "execution_count": 57,
      "outputs": [
        {
          "output_type": "execute_result",
          "data": {
            "text/plain": [
              "tensor([[0.7104, 0.9464, 0.7890, 0.2814, 0.7886, 0.5895]])"
            ]
          },
          "metadata": {},
          "execution_count": 57
        }
      ]
    },
    {
      "cell_type": "code",
      "source": [
        "# Modifying view tensor changes base tensor as well.\n",
        "tensor_copy[0][0] = 3.14\n",
        "tensor[0][0]"
      ],
      "metadata": {
        "colab": {
          "base_uri": "https://localhost:8080/"
        },
        "id": "5LeZdk-XSaRx",
        "outputId": "c66c34b4-749f-4c1f-edb1-a018efdb576d"
      },
      "execution_count": 58,
      "outputs": [
        {
          "output_type": "execute_result",
          "data": {
            "text/plain": [
              "tensor(3.1400)"
            ]
          },
          "metadata": {},
          "execution_count": 58
        }
      ]
    },
    {
      "cell_type": "markdown",
      "source": [
        "### Reshaping, stacking, squeezing and unsqueezing\n",
        "\n",
        "Some popular methods are:\n",
        "\n",
        "| Method | One-line description |\n",
        "| ----- | ----- |\n",
        "| [`torch.reshape(input, shape)`](https://pytorch.org/docs/stable/generated/torch.reshape.html#torch.reshape) | Reshapes `input` to `shape` (if compatible), can also use `torch.Tensor.reshape()`. |\n",
        "| [`torch.Tensor.view(shape)`](https://pytorch.org/docs/stable/generated/torch.Tensor.view.html) | Returns a view of the original tensor in a different `shape` but shares the same data as the original tensor. |\n",
        "| [`torch.stack(tensors, dim=0)`](https://pytorch.org/docs/1.9.1/generated/torch.stack.html) | Concatenates a sequence of `tensors` along a new dimension (`dim`), all `tensors` must be same size. |\n",
        "| [`torch.squeeze(input)`](https://pytorch.org/docs/stable/generated/torch.squeeze.html) | Squeezes `input` to remove all the dimenions with value `1`. |\n",
        "| [`torch.unsqueeze(input, dim)`](https://pytorch.org/docs/1.9.1/generated/torch.unsqueeze.html) | Returns `input` with a dimension value of `1` added at `dim`. | \n",
        "| [`torch.permute(input, dims)`](https://pytorch.org/docs/stable/generated/torch.permute.html) | Returns a *view* of the original `input` with its dimensions permuted (rearranged) to `dims`. "
      ],
      "metadata": {
        "id": "AHYoUu1kTqO4"
      }
    },
    {
      "cell_type": "code",
      "source": [
        "# Create a tensor \n",
        "tensor = torch.arange(1., 8.)\n",
        "tensor, tensor.shape"
      ],
      "metadata": {
        "colab": {
          "base_uri": "https://localhost:8080/"
        },
        "id": "lqJycnEBTqRx",
        "outputId": "0b630873-dd7f-44d1-8f85-82c00da4709b"
      },
      "execution_count": 59,
      "outputs": [
        {
          "output_type": "execute_result",
          "data": {
            "text/plain": [
              "(tensor([1., 2., 3., 4., 5., 6., 7.]), torch.Size([7]))"
            ]
          },
          "metadata": {},
          "execution_count": 59
        }
      ]
    },
    {
      "cell_type": "code",
      "source": [
        "# Add an extra dimension \n",
        "tensor_reshaped = tensor.reshape(1, 7)\n",
        "tensor_reshaped, tensor_reshaped.shape"
      ],
      "metadata": {
        "colab": {
          "base_uri": "https://localhost:8080/"
        },
        "id": "WvSC2fg5T7Bl",
        "outputId": "b52650ff-a608-4957-bae4-74eaf080a2e3"
      },
      "execution_count": 60,
      "outputs": [
        {
          "output_type": "execute_result",
          "data": {
            "text/plain": [
              "(tensor([[1., 2., 3., 4., 5., 6., 7.]]), torch.Size([1, 7]))"
            ]
          },
          "metadata": {},
          "execution_count": 60
        }
      ]
    },
    {
      "cell_type": "code",
      "source": [
        "# Stack tensors on top of eac[h other with stack() method\n",
        "tensor_stacked = torch.stack([tensor, tensor, tensor], dim=0)\n",
        "tensor_stacked"
      ],
      "metadata": {
        "colab": {
          "base_uri": "https://localhost:8080/"
        },
        "id": "jrlQLdhJUWx2",
        "outputId": "1ace4568-9b13-4770-e427-4e195667172e"
      },
      "execution_count": 61,
      "outputs": [
        {
          "output_type": "execute_result",
          "data": {
            "text/plain": [
              "tensor([[1., 2., 3., 4., 5., 6., 7.],\n",
              "        [1., 2., 3., 4., 5., 6., 7.],\n",
              "        [1., 2., 3., 4., 5., 6., 7.]])"
            ]
          },
          "metadata": {},
          "execution_count": 61
        }
      ]
    },
    {
      "cell_type": "code",
      "source": [
        "tensor_stacked = torch.stack([tensor, tensor, tensor], dim=1)\n",
        "tensor_stacked"
      ],
      "metadata": {
        "colab": {
          "base_uri": "https://localhost:8080/"
        },
        "id": "8FycYsgZVmBu",
        "outputId": "63cf6464-d90a-492c-d86a-11cd8657db39"
      },
      "execution_count": 62,
      "outputs": [
        {
          "output_type": "execute_result",
          "data": {
            "text/plain": [
              "tensor([[1., 1., 1.],\n",
              "        [2., 2., 2.],\n",
              "        [3., 3., 3.],\n",
              "        [4., 4., 4.],\n",
              "        [5., 5., 5.],\n",
              "        [6., 6., 6.],\n",
              "        [7., 7., 7.]])"
            ]
          },
          "metadata": {},
          "execution_count": 62
        }
      ]
    },
    {
      "cell_type": "code",
      "source": [
        "tensor_reshaped, tensor_reshaped.shape"
      ],
      "metadata": {
        "colab": {
          "base_uri": "https://localhost:8080/"
        },
        "id": "81GR734JUW8q",
        "outputId": "fbabc15b-32a6-4686-88df-8b8bcbf945d6"
      },
      "execution_count": 63,
      "outputs": [
        {
          "output_type": "execute_result",
          "data": {
            "text/plain": [
              "(tensor([[1., 2., 3., 4., 5., 6., 7.]]), torch.Size([1, 7]))"
            ]
          },
          "metadata": {},
          "execution_count": 63
        }
      ]
    },
    {
      "cell_type": "code",
      "source": [
        "# Remove extra dimension from tensor_reshaped (Reduce the dimensions)\n",
        "tensor_squeezed = tensor_reshaped.squeeze()\n",
        "tensor_squeezed, tensor_squeezed.shape"
      ],
      "metadata": {
        "colab": {
          "base_uri": "https://localhost:8080/"
        },
        "id": "EWAJncufV5jC",
        "outputId": "548171ef-d039-4fb5-bb89-37d870361dd1"
      },
      "execution_count": 64,
      "outputs": [
        {
          "output_type": "execute_result",
          "data": {
            "text/plain": [
              "(tensor([1., 2., 3., 4., 5., 6., 7.]), torch.Size([7]))"
            ]
          },
          "metadata": {},
          "execution_count": 64
        }
      ]
    },
    {
      "cell_type": "code",
      "source": [
        "# Add dimension (reverse)\n",
        "tensor_unsqueezed = tensor_squeezed.unsqueeze(dim=0)\n",
        "tensor_unsqueezed, tensor_unsqueezed.shape"
      ],
      "metadata": {
        "colab": {
          "base_uri": "https://localhost:8080/"
        },
        "id": "i35O0eJJVrHi",
        "outputId": "5caa685d-e2aa-4b5e-fed6-9b7c310a265a"
      },
      "execution_count": 65,
      "outputs": [
        {
          "output_type": "execute_result",
          "data": {
            "text/plain": [
              "(tensor([[1., 2., 3., 4., 5., 6., 7.]]), torch.Size([1, 7]))"
            ]
          },
          "metadata": {},
          "execution_count": 65
        }
      ]
    },
    {
      "cell_type": "code",
      "source": [
        "# Create tensor with specific shape\n",
        "tensor_original = torch.rand(size=(224, 224, 3))\n",
        "\n",
        "# Permute (rearrange) the original tensor to rearrange the axis order\n",
        "tensor_permuted = tensor_original.permute(2, 0, 1) # shifts axis 0->1, 1->2, 2->0\n",
        "\n",
        "print(f\"Previous shape: {tensor_original.shape}\")\n",
        "print(f\"New shape: {tensor_permuted.shape}\")"
      ],
      "metadata": {
        "colab": {
          "base_uri": "https://localhost:8080/"
        },
        "id": "hFokuBAJWiMc",
        "outputId": "aaf6bce3-d6aa-4633-9f04-5ba6caf1b9ce"
      },
      "execution_count": 66,
      "outputs": [
        {
          "output_type": "stream",
          "name": "stdout",
          "text": [
            "Previous shape: torch.Size([224, 224, 3])\n",
            "New shape: torch.Size([3, 224, 224])\n"
          ]
        }
      ]
    },
    {
      "cell_type": "markdown",
      "source": [
        "### Indexing (selecting data from tensors)"
      ],
      "metadata": {
        "id": "L7Ti-KtiWiRx"
      }
    },
    {
      "cell_type": "code",
      "source": [
        "# Create a tensor \n",
        "tensor = torch.arange(1, 10).reshape(1, 3, 3)\n",
        "tensor, tensor.shape"
      ],
      "metadata": {
        "colab": {
          "base_uri": "https://localhost:8080/"
        },
        "id": "maMrn5tkWir_",
        "outputId": "2a989cc0-2fee-4242-dd42-2a90971305cc"
      },
      "execution_count": 67,
      "outputs": [
        {
          "output_type": "execute_result",
          "data": {
            "text/plain": [
              "(tensor([[[1, 2, 3],\n",
              "          [4, 5, 6],\n",
              "          [7, 8, 9]]]), torch.Size([1, 3, 3]))"
            ]
          },
          "metadata": {},
          "execution_count": 67
        }
      ]
    },
    {
      "cell_type": "code",
      "source": [
        "# Let's index bracket by bracket\n",
        "print(f\"First square bracket:\\n{tensor[0]}\") \n",
        "print(f\"Second square bracket: {tensor[0][0]}\") \n",
        "print(f\"Third square bracket: {tensor[0][0][0]}\")"
      ],
      "metadata": {
        "colab": {
          "base_uri": "https://localhost:8080/"
        },
        "id": "yl44kMsKWiyw",
        "outputId": "e31b91b9-15b8-4534-9842-4d7c39a3b9da"
      },
      "execution_count": 68,
      "outputs": [
        {
          "output_type": "stream",
          "name": "stdout",
          "text": [
            "First square bracket:\n",
            "tensor([[1, 2, 3],\n",
            "        [4, 5, 6],\n",
            "        [7, 8, 9]])\n",
            "Second square bracket: tensor([1, 2, 3])\n",
            "Third square bracket: 1\n"
          ]
        }
      ]
    },
    {
      "cell_type": "code",
      "source": [
        "tensor[:, 0], tensor[:, 1], tensor[:, 2]"
      ],
      "metadata": {
        "colab": {
          "base_uri": "https://localhost:8080/"
        },
        "id": "Pe0QvbUuXvev",
        "outputId": "9de8c822-30ef-4770-a8a0-2d373823805b"
      },
      "execution_count": 69,
      "outputs": [
        {
          "output_type": "execute_result",
          "data": {
            "text/plain": [
              "(tensor([[1, 2, 3]]), tensor([[4, 5, 6]]), tensor([[7, 8, 9]]))"
            ]
          },
          "metadata": {},
          "execution_count": 69
        }
      ]
    },
    {
      "cell_type": "code",
      "source": [
        "# Get all values of 0th & 1st dimensions but only index 1 of 2nd dimension\n",
        "tensor[:, :, 1]"
      ],
      "metadata": {
        "colab": {
          "base_uri": "https://localhost:8080/"
        },
        "id": "2oY25lXVX6oB",
        "outputId": "ff64c906-41f6-425b-805e-86fe7e131a43"
      },
      "execution_count": 70,
      "outputs": [
        {
          "output_type": "execute_result",
          "data": {
            "text/plain": [
              "tensor([[2, 5, 8]])"
            ]
          },
          "metadata": {},
          "execution_count": 70
        }
      ]
    },
    {
      "cell_type": "code",
      "source": [
        "# Get all values of the 0 dimension but only the 1 index value of the 1st and 2nd dimension\n",
        "tensor[:, 1, 1]"
      ],
      "metadata": {
        "colab": {
          "base_uri": "https://localhost:8080/"
        },
        "id": "CM9MUmelYEsJ",
        "outputId": "c5aafafc-91be-435a-dbfd-67bd926815e7"
      },
      "execution_count": 71,
      "outputs": [
        {
          "output_type": "execute_result",
          "data": {
            "text/plain": [
              "tensor([5])"
            ]
          },
          "metadata": {},
          "execution_count": 71
        }
      ]
    },
    {
      "cell_type": "code",
      "source": [
        "# Get index 0 of 0th and 1st dimension and all values of 2nd dimension \n",
        "tensor[0, 0, :] # same as x[0][0]"
      ],
      "metadata": {
        "colab": {
          "base_uri": "https://localhost:8080/"
        },
        "id": "B_nLAfbQYEwC",
        "outputId": "df607318-f54c-4d61-960d-9ba733d10d53"
      },
      "execution_count": 72,
      "outputs": [
        {
          "output_type": "execute_result",
          "data": {
            "text/plain": [
              "tensor([1, 2, 3])"
            ]
          },
          "metadata": {},
          "execution_count": 72
        }
      ]
    },
    {
      "cell_type": "markdown",
      "source": [
        "### PyTorch tensors & NumPy"
      ],
      "metadata": {
        "id": "gkGC0JB_YLEn"
      }
    },
    {
      "cell_type": "code",
      "source": [
        "# Create a torch tensor from NumPy array \n",
        "array = np.arange(1.0, 8.0)\n",
        "tensor = torch.from_numpy(array)\n",
        "array, tensor"
      ],
      "metadata": {
        "colab": {
          "base_uri": "https://localhost:8080/"
        },
        "id": "s3xuYqh2YLKd",
        "outputId": "2a1e9827-4c90-4811-f1bd-b66169073b67"
      },
      "execution_count": 73,
      "outputs": [
        {
          "output_type": "execute_result",
          "data": {
            "text/plain": [
              "(array([1., 2., 3., 4., 5., 6., 7.]),\n",
              " tensor([1., 2., 3., 4., 5., 6., 7.], dtype=torch.float64))"
            ]
          },
          "metadata": {},
          "execution_count": 73
        }
      ]
    },
    {
      "cell_type": "code",
      "source": [
        "# Check GPU \n",
        "!nvidia-smi"
      ],
      "metadata": {
        "colab": {
          "base_uri": "https://localhost:8080/"
        },
        "id": "j0OkJ7FTYLQ2",
        "outputId": "99f65055-f932-4169-fbd9-79fb8e44aea5"
      },
      "execution_count": 74,
      "outputs": [
        {
          "output_type": "stream",
          "name": "stdout",
          "text": [
            "Thu Jul  7 11:26:07 2022       \n",
            "+-----------------------------------------------------------------------------+\n",
            "| NVIDIA-SMI 460.32.03    Driver Version: 460.32.03    CUDA Version: 11.2     |\n",
            "|-------------------------------+----------------------+----------------------+\n",
            "| GPU  Name        Persistence-M| Bus-Id        Disp.A | Volatile Uncorr. ECC |\n",
            "| Fan  Temp  Perf  Pwr:Usage/Cap|         Memory-Usage | GPU-Util  Compute M. |\n",
            "|                               |                      |               MIG M. |\n",
            "|===============================+======================+======================|\n",
            "|   0  Tesla T4            Off  | 00000000:00:04.0 Off |                    0 |\n",
            "| N/A   55C    P8     9W /  70W |      0MiB / 15109MiB |      0%      Default |\n",
            "|                               |                      |                  N/A |\n",
            "+-------------------------------+----------------------+----------------------+\n",
            "                                                                               \n",
            "+-----------------------------------------------------------------------------+\n",
            "| Processes:                                                                  |\n",
            "|  GPU   GI   CI        PID   Type   Process name                  GPU Memory |\n",
            "|        ID   ID                                                   Usage      |\n",
            "|=============================================================================|\n",
            "|  No running processes found                                                 |\n",
            "+-----------------------------------------------------------------------------+\n"
          ]
        }
      ]
    },
    {
      "cell_type": "code",
      "source": [
        "# Test if PyTorch has access to a GPU using\n",
        "torch.cuda.is_available()"
      ],
      "metadata": {
        "colab": {
          "base_uri": "https://localhost:8080/"
        },
        "id": "KH5rWdbvaSqa",
        "outputId": "0ef76899-b72c-4e4b-adf5-b92656a01d8d"
      },
      "execution_count": 75,
      "outputs": [
        {
          "output_type": "execute_result",
          "data": {
            "text/plain": [
              "True"
            ]
          },
          "metadata": {},
          "execution_count": 75
        }
      ]
    },
    {
      "cell_type": "code",
      "source": [
        "# Count number of devices\n",
        "torch.cuda.device_count()"
      ],
      "metadata": {
        "colab": {
          "base_uri": "https://localhost:8080/"
        },
        "id": "MOqbo2RKaSwG",
        "outputId": "870c2de8-d3b6-47a2-af93-87b7ac261138"
      },
      "execution_count": 76,
      "outputs": [
        {
          "output_type": "execute_result",
          "data": {
            "text/plain": [
              "1"
            ]
          },
          "metadata": {},
          "execution_count": 76
        }
      ]
    },
    {
      "cell_type": "code",
      "source": [
        "# Set device type\n",
        "device = \"cuda\" if torch.cuda.is_available() else \"cpu\"\n",
        "device"
      ],
      "metadata": {
        "colab": {
          "base_uri": "https://localhost:8080/",
          "height": 35
        },
        "id": "9e7eDuT4bMqR",
        "outputId": "cb592dce-71de-4541-dc83-14bdd1ecae1b"
      },
      "execution_count": 77,
      "outputs": [
        {
          "output_type": "execute_result",
          "data": {
            "text/plain": [
              "'cuda'"
            ],
            "application/vnd.google.colaboratory.intrinsic+json": {
              "type": "string"
            }
          },
          "metadata": {},
          "execution_count": 77
        }
      ]
    },
    {
      "cell_type": "code",
      "source": [
        "# Create tensor (default on CPU)\n",
        "tensor = torch.tensor([1, 2, 3])\n",
        "\n",
        "# Tensor not on GPU\n",
        "print(tensor, tensor.device)\n",
        "\n",
        "# Move tensor to GPU (if available)\n",
        "tensor_on_gpu = tensor.to(device)\n",
        "tensor_on_gpu"
      ],
      "metadata": {
        "colab": {
          "base_uri": "https://localhost:8080/"
        },
        "id": "8zrX3Fd1bGTS",
        "outputId": "aa43b586-d470-48e8-bd73-5a58215753e9"
      },
      "execution_count": 78,
      "outputs": [
        {
          "output_type": "stream",
          "name": "stdout",
          "text": [
            "tensor([1, 2, 3]) cpu\n"
          ]
        },
        {
          "output_type": "execute_result",
          "data": {
            "text/plain": [
              "tensor([1, 2, 3], device='cuda:0')"
            ]
          },
          "metadata": {},
          "execution_count": 78
        }
      ]
    },
    {
      "cell_type": "code",
      "source": [
        "# Copy the tensor back to cpu\n",
        "tensor_back_on_cpu = tensor_on_gpu.cpu().numpy()\n",
        "print(tensor_back_on_cpu)\n",
        "print(tensor_on_gpu)"
      ],
      "metadata": {
        "colab": {
          "base_uri": "https://localhost:8080/"
        },
        "id": "CZ0w_66zbcWu",
        "outputId": "33a25392-0ce7-49ba-9056-5bd278b86a48"
      },
      "execution_count": 82,
      "outputs": [
        {
          "output_type": "stream",
          "name": "stdout",
          "text": [
            "[1 2 3]\n",
            "tensor([1, 2, 3], device='cuda:0')\n"
          ]
        }
      ]
    },
    {
      "cell_type": "markdown",
      "source": [
        "### Exercises: \n",
        "1. PyTorch Documentation reading\n",
        "2. Create a random tensor with shape `(7, 7)`.\n",
        "3. Perform a matrix multiplication on the tensor from 2 with another random tensor with shape `(1, 7)` (hint: you may have to transpose the second tensor).\n",
        "4. Set the random seed to `0` and do 2 & 3 over again. The output should be:\n",
        "\n",
        "```\n",
        "(tensor([[1.8542],\n",
        "         [1.9611],\n",
        "         [2.2884],\n",
        "         [3.0481],\n",
        "         [1.7067],\n",
        "         [2.5290],\n",
        "         [1.7989]]), torch.Size([7, 1]))\n",
        "```\n",
        "\n",
        "5. Speaking of random seeds, we saw how to set it with `torch.manual_seed()` but is there a GPU equivalent? (hint: you'll need to look into the documentation for `torch.cuda` for this one)\n",
        "  * If there is, set the GPU random seed to `1234`.\n",
        "6. Create two random tensors of shape `(2, 3)` and send them both to the GPU (you'll need access to a GPU for this). Set `torch.manual_seed(1234)` when creating the tensors (this doesn't have to be the GPU random seed). The output should be something like:\n",
        "\n",
        "```\n",
        "Device: cuda\n",
        "(tensor([[0.0290, 0.4019, 0.2598],\n",
        "         [0.3666, 0.0583, 0.7006]], device='cuda:0'),\n",
        " tensor([[0.0518, 0.4681, 0.6738],\n",
        "         [0.3315, 0.7837, 0.5631]], device='cuda:0'))\n",
        "```\n",
        "7. Perform a matrix multiplication on the tensors you created in 6 (again, you may have to adjust the shapes of one of the tensors).\n",
        "8. Find the maximum and minimum values of the output of 7.\n",
        "9. Find the maximum and minimum index values of the output of 7.\n",
        "10. Make a random tensor with shape `(1, 1, 1, 10)` and then create a new tensor with all the `1` dimensions removed to be left with a tensor of shape `(10)`. Set the seed to `7` when you create it and print out the first tensor and it's shape as well as the second tensor and it's shape. The output should look something like:\n",
        "\n",
        "```\n",
        "tensor([[[[0.5349, 0.1988, 0.6592, 0.6569, 0.2328, 0.4251, 0.2071, 0.6297,\n",
        "           0.3653, 0.8513]]]]) torch.Size([1, 1, 1, 10])\n",
        "tensor([0.5349, 0.1988, 0.6592, 0.6569, 0.2328, 0.4251, 0.2071, 0.6297, 0.3653,\n",
        "        0.8513]) torch.Size([10])\n",
        "```"
      ],
      "metadata": {
        "id": "QmtDTxKkb8SL"
      }
    },
    {
      "cell_type": "markdown",
      "source": [
        "2. Create a random tensor with shape (7, 7)."
      ],
      "metadata": {
        "id": "w5YbO_bYb8V1"
      }
    },
    {
      "cell_type": "code",
      "source": [
        "tensor = torch.rand(size=(7, 7))\n",
        "tensor, tensor.shape"
      ],
      "metadata": {
        "colab": {
          "base_uri": "https://localhost:8080/"
        },
        "id": "iHpJGDJPcK4L",
        "outputId": "f686b9b0-b3b5-4157-bbfa-55a6f098dc6e"
      },
      "execution_count": 83,
      "outputs": [
        {
          "output_type": "execute_result",
          "data": {
            "text/plain": [
              "(tensor([[0.4436, 0.9726, 0.5194, 0.5337, 0.7050, 0.3362, 0.7891],\n",
              "         [0.1694, 0.1800, 0.7177, 0.6988, 0.5510, 0.2485, 0.8518],\n",
              "         [0.0963, 0.1338, 0.2741, 0.6142, 0.8973, 0.3629, 0.1748],\n",
              "         [0.2401, 0.5457, 0.7303, 0.5268, 0.6694, 0.3213, 0.4008],\n",
              "         [0.2892, 0.9977, 0.6649, 0.5646, 0.9323, 0.4621, 0.4027],\n",
              "         [0.1680, 0.1170, 0.5063, 0.6061, 0.5141, 0.1907, 0.0445],\n",
              "         [0.5425, 0.9580, 0.9967, 0.6417, 0.0839, 0.0765, 0.5912]]),\n",
              " torch.Size([7, 7]))"
            ]
          },
          "metadata": {},
          "execution_count": 83
        }
      ]
    },
    {
      "cell_type": "markdown",
      "source": [
        "3. Perform a matrix multiplication on the tensor from 2 with another random tensor with shape `(1, 7)` (hint: you may have to transpose the second tensor)."
      ],
      "metadata": {
        "id": "bln6dvwtcK7_"
      }
    },
    {
      "cell_type": "code",
      "source": [
        "tensor2 = torch.rand(size=(1, 7))\n",
        "tensor2"
      ],
      "metadata": {
        "colab": {
          "base_uri": "https://localhost:8080/"
        },
        "id": "HE4OjfZedGoe",
        "outputId": "1434f7a6-4c20-45db-c847-e193d0ad1910"
      },
      "execution_count": 84,
      "outputs": [
        {
          "output_type": "execute_result",
          "data": {
            "text/plain": [
              "tensor([[0.8892, 0.4251, 0.8701, 0.1472, 0.6981, 0.4965, 0.0381]])"
            ]
          },
          "metadata": {},
          "execution_count": 84
        }
      ]
    },
    {
      "cell_type": "code",
      "source": [
        "torch.matmul(tensor, tensor2.T)"
      ],
      "metadata": {
        "colab": {
          "base_uri": "https://localhost:8080/"
        },
        "id": "rk79cpUHcK_d",
        "outputId": "62850752-54c0-45a6-8c25-41a3243547c2"
      },
      "execution_count": 85,
      "outputs": [
        {
          "output_type": "execute_result",
          "data": {
            "text/plain": [
              "tensor([[2.0276],\n",
              "        [1.4949],\n",
              "        [1.2846],\n",
              "        [1.8006],\n",
              "        [2.2386],\n",
              "        [1.1842],\n",
              "        [1.9704]])"
            ]
          },
          "metadata": {},
          "execution_count": 85
        }
      ]
    },
    {
      "cell_type": "markdown",
      "source": [
        "4. Set the random seed to `0` and do 2 & 3 over again. "
      ],
      "metadata": {
        "id": "wbUs7kJjcLC_"
      }
    },
    {
      "cell_type": "code",
      "source": [
        "torch.manual_seed(0)\n",
        "tensor = torch.rand(size=(7, 7))\n",
        "tensor2 = torch.rand(size=(1, 7))\n",
        "\n",
        "# Matrix Multiplication \n",
        "torch.matmul(tensor, tensor2.T)"
      ],
      "metadata": {
        "colab": {
          "base_uri": "https://localhost:8080/"
        },
        "id": "IvoDLH3_cLFS",
        "outputId": "c67c8c17-97e1-4601-dd6d-07596d462f2c"
      },
      "execution_count": 88,
      "outputs": [
        {
          "output_type": "execute_result",
          "data": {
            "text/plain": [
              "tensor([[1.8542],\n",
              "        [1.9611],\n",
              "        [2.2884],\n",
              "        [3.0481],\n",
              "        [1.7067],\n",
              "        [2.5290],\n",
              "        [1.7989]])"
            ]
          },
          "metadata": {},
          "execution_count": 88
        }
      ]
    },
    {
      "cell_type": "markdown",
      "source": [
        "5. Speaking of random seeds, we saw how to set it with `torch.manual_seed()` but is there a GPU equivalent? (hint: you'll need to look into the documentation for `torch.cuda` for this one)\n",
        "  * If there is, set the GPU random seed to `1234`."
      ],
      "metadata": {
        "id": "qnOPPY8Odk-K"
      }
    },
    {
      "cell_type": "code",
      "source": [
        "torch.cuda.manual_seed(1234)\n"
      ],
      "metadata": {
        "id": "HIZbCpSKdlCh"
      },
      "execution_count": 96,
      "outputs": []
    },
    {
      "cell_type": "markdown",
      "source": [
        "6. Create two random tensors of shape `(2, 3)` and send them both to the GPU (you'll need access to a GPU for this). Set `torch.manual_seed(1234)` when creating the tensors (this doesn't have to be the GPU random seed)."
      ],
      "metadata": {
        "id": "LNRL1pqZdlGQ"
      }
    },
    {
      "cell_type": "code",
      "source": [
        "# Set the seed \n",
        "torch.manual_seed(1234)\n",
        "\n",
        "# Create random tensors\n",
        "tensor1 = torch.rand(size=(2, 3))\n",
        "tensor2 = torch.rand(size=(2, 3))\n",
        "\n",
        "# Send both tensors to the GPU\n",
        "device = \"cuda\" if torch.cuda.is_available() else \"cpu\"\n",
        "tensor1_on_gpu = tensor1.to(device)\n",
        "tensor2_on_gpu = tensor2.to(device)\n",
        "\n",
        "print(tensor1_on_gpu)\n",
        "print(tensor2_on_gpu)"
      ],
      "metadata": {
        "colab": {
          "base_uri": "https://localhost:8080/"
        },
        "id": "_x5QzJ1bdlJx",
        "outputId": "ffbed975-1dcf-4cd3-d91f-489a2b4c9957"
      },
      "execution_count": 99,
      "outputs": [
        {
          "output_type": "stream",
          "name": "stdout",
          "text": [
            "tensor([[0.0290, 0.4019, 0.2598],\n",
            "        [0.3666, 0.0583, 0.7006]], device='cuda:0')\n",
            "tensor([[0.0518, 0.4681, 0.6738],\n",
            "        [0.3315, 0.7837, 0.5631]], device='cuda:0')\n"
          ]
        }
      ]
    },
    {
      "cell_type": "markdown",
      "source": [
        "7. Perform a matrix multiplication on the tensors you created in 6 (again, you may have to adjust the shapes of one of the tensors)."
      ],
      "metadata": {
        "id": "fK1pfoPdfpcs"
      }
    },
    {
      "cell_type": "code",
      "source": [
        "output = torch.matmul(tensor1, tensor2.T)\n",
        "output"
      ],
      "metadata": {
        "colab": {
          "base_uri": "https://localhost:8080/"
        },
        "id": "Wz2zuTDLfphj",
        "outputId": "210b09ac-e38d-440f-fb1b-b9ace4afeecc"
      },
      "execution_count": 102,
      "outputs": [
        {
          "output_type": "execute_result",
          "data": {
            "text/plain": [
              "tensor([[0.3647, 0.4709],\n",
              "        [0.5184, 0.5617]])"
            ]
          },
          "metadata": {},
          "execution_count": 102
        }
      ]
    },
    {
      "cell_type": "markdown",
      "source": [
        "8. Find the maximum and minimum values of the output of 7.\n"
      ],
      "metadata": {
        "id": "wU9SIaLIfpoB"
      }
    },
    {
      "cell_type": "code",
      "source": [
        "torch.max(output), torch.min(output)"
      ],
      "metadata": {
        "colab": {
          "base_uri": "https://localhost:8080/"
        },
        "id": "gH9SwFHlgBPD",
        "outputId": "4f84690d-8bbe-4bfd-9b32-60c91545fd49"
      },
      "execution_count": 103,
      "outputs": [
        {
          "output_type": "execute_result",
          "data": {
            "text/plain": [
              "(tensor(0.5617), tensor(0.3647))"
            ]
          },
          "metadata": {},
          "execution_count": 103
        }
      ]
    },
    {
      "cell_type": "markdown",
      "source": [
        "9. Find the maximum and minimum index values of the output of 7."
      ],
      "metadata": {
        "id": "loczAL50gBX9"
      }
    },
    {
      "cell_type": "code",
      "source": [
        "torch.argmax(output), torch.argmin(output)"
      ],
      "metadata": {
        "colab": {
          "base_uri": "https://localhost:8080/"
        },
        "id": "OINMeCPOgK94",
        "outputId": "4030f5aa-55b6-4ce0-a31b-2de0ad822d97"
      },
      "execution_count": 104,
      "outputs": [
        {
          "output_type": "execute_result",
          "data": {
            "text/plain": [
              "(tensor(3), tensor(0))"
            ]
          },
          "metadata": {},
          "execution_count": 104
        }
      ]
    },
    {
      "cell_type": "markdown",
      "source": [
        "10. Make a random tensor with shape `(1, 1, 1, 10)` and then create a new tensor with all the `1` dimensions removed to be left with a tensor of shape `(10)`. Set the seed to `7` when you create it and print out the first tensor and it's shape as well as the second tensor and it's shape. "
      ],
      "metadata": {
        "id": "hgnVOPo9gLJm"
      }
    },
    {
      "cell_type": "code",
      "source": [
        "# Set the seed \n",
        "torch.manual_seed(7)\n",
        "\n",
        "# Create a random tensor \n",
        "random_tensor = torch.rand(size=(1, 1, 1, 10))\n",
        "random_tensor\n",
        "\n",
        "# Remove all 1 dimensions from the tensor \n",
        "random_tensor_squeezed = torch.squeeze(random_tensor)\n",
        "\n",
        "print(random_tensor, random_tensor.shape)\n",
        "print(random_tensor_squeezed, random_tensor_squeezed.shape)\n"
      ],
      "metadata": {
        "colab": {
          "base_uri": "https://localhost:8080/"
        },
        "id": "dSdG1emagnM2",
        "outputId": "d8f61010-60be-4257-fa3b-c00d92764337"
      },
      "execution_count": 110,
      "outputs": [
        {
          "output_type": "stream",
          "name": "stdout",
          "text": [
            "tensor([[[[0.5349, 0.1988, 0.6592, 0.6569, 0.2328, 0.4251, 0.2071, 0.6297,\n",
            "           0.3653, 0.8513]]]]) torch.Size([1, 1, 1, 10])\n",
            "tensor([0.5349, 0.1988, 0.6592, 0.6569, 0.2328, 0.4251, 0.2071, 0.6297, 0.3653,\n",
            "        0.8513]) torch.Size([10])\n"
          ]
        }
      ]
    },
    {
      "cell_type": "markdown",
      "source": [
        "##### Methods covered in this notebook: \n",
        "\n",
        "* `torch.tensor()`\n",
        "* `torch.rand()`\n",
        "* `torch.arange()`\n",
        "* `torch.zeros()`\n",
        "* `torch.ones()`\n",
        "* `torch.ones_like()`\n",
        "* `torch.zeros_like()`\n",
        "* `torch.add()`\n",
        "* `torch.subtract()`\n",
        "* `torch.multiply()`\n",
        "* `torch.divide()`\n",
        "* `torch.matmul()` = `torch.mm()`\n",
        "* `torch.manual_seed()`\n",
        "* `torch.nn.Linear()`\n",
        "* `torch.max()`\n",
        "* `torch.min()`\n",
        "* `torch.mean()`\n",
        "* `torch.sum()`\n",
        "* `torch.reshape()`\n",
        "* `torch.squeeze()`\n",
        "* `torch.unsqueeze()`\n",
        "* `torch.from_numpy()`\n",
        "\n",
        "\n"
      ],
      "metadata": {
        "id": "upp_YpEB2FUG"
      }
    },
    {
      "cell_type": "markdown",
      "source": [
        "#### **References:**\n",
        "\n",
        "* [PyTorch Documentation](https://pytorch.org/docs/stable/index.html)\n",
        "\n",
        "* [PyTorch Forums](https://discuss.pytorch.org/)\n",
        "\n",
        "* [torch.Tesnor](https://pytorch.org/docs/stable/generated/torch.tensor.html#torch.tensor)\n",
        "\n",
        "* [Tensor Datatypes in PyTorch](https://pytorch.org/docs/stable/tensors.html#data-types)\n",
        "\n",
        "* [Matrix Multiplication in PyTorch](https://pytorch.org/docs/stable/generated/torch.matmul.html)\n",
        "\n",
        "* [Matrix Multiplication Explaination](https://www.mathsisfun.com/algebra/matrix-multiplying.html)\n",
        "\n",
        "* [Whats the difference between reshape and view in pytorch](https://stackoverflow.com/questions/49643225/whats-the-difference-between-reshape-and-view-in-pytorch/54507446#54507446)\n",
        "\n",
        "* [The PyTorch reproducibility documentation](https://pytorch.org/docs/stable/notes/randomness.html)\n",
        "\n",
        "* [Which GPU(s) to Get for Deep Learning](https://timdettmers.com/2020/09/07/which-gpu-for-deep-learning/)\n",
        "\n",
        "* [PyTorch Basics Tutorial](https://pytorch.org/tutorials/beginner/basics/intro.html)\n",
        "\n",
        "* [torch.cuda()](https://pytorch.org/docs/stable/cuda.html)\n",
        "\n",
        "\n",
        "* [Learn PyTorch](https://www.learnpytorch.io/00_pytorch_fundamentals/)\n",
        "\n",
        "\n"
      ],
      "metadata": {
        "id": "AlLWc-dflxUt"
      }
    }
  ]
}